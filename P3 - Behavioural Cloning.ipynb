{
 "cells": [
  {
   "cell_type": "markdown",
   "metadata": {},
   "source": [
    "# Udacity Self Driving Car Nanodegree\n",
    "# Project 3 - Behavioural Cloning"
   ]
  },
  {
   "cell_type": "markdown",
   "metadata": {},
   "source": [
    "By James Marshall"
   ]
  },
  {
   "cell_type": "code",
   "execution_count": 1,
   "metadata": {},
   "outputs": [],
   "source": [
    "##Checklist\n",
    "\n",
    "##Get AWS working\n",
    "##Normalise Steering Values\n",
    "##FitGenerator get better samples_per_epoch and nb_...."
   ]
  },
  {
   "cell_type": "markdown",
   "metadata": {},
   "source": [
    "## Imports"
   ]
  },
  {
   "cell_type": "code",
   "execution_count": 2,
   "metadata": {},
   "outputs": [
    {
     "name": "stderr",
     "output_type": "stream",
     "text": [
      "Using TensorFlow backend.\n"
     ]
    },
    {
     "name": "stdout",
     "output_type": "stream",
     "text": [
      "done\n"
     ]
    }
   ],
   "source": [
    "import csv\n",
    "import cv2\n",
    "import numpy as np\n",
    "import os\n",
    "import glob\n",
    "import matplotlib.pyplot as plt\n",
    "import sklearn\n",
    "from sklearn.model_selection import train_test_split\n",
    "from sklearn.utils import shuffle\n",
    "from keras.callbacks import ModelCheckpoint, Callback\n",
    "\n",
    "print(\"done\")"
   ]
  },
  {
   "cell_type": "markdown",
   "metadata": {},
   "source": [
    "## Get Images from files and augment them"
   ]
  },
  {
   "cell_type": "code",
   "execution_count": 3,
   "metadata": {},
   "outputs": [
    {
     "name": "stdout",
     "output_type": "stream",
     "text": [
      "done\n"
     ]
    }
   ],
   "source": [
    "samples = []\n",
    "with open('mydata/driving_log.csv') as csvfile:\n",
    "    reader = csv.reader(csvfile)\n",
    "    for line in reader:\n",
    "        samples.append(line)\n",
    "\n",
    "        \n",
    "image_paths = []\n",
    "measurements = []\n",
    "for line in samples:\n",
    "    #Centre Image\n",
    "    source_path = line[0]\n",
    "    path, filename = os.path.split(source_path)\n",
    "    current_path = 'C:\\\\Users\\\\James\\\\Documents\\\\GitHub\\\\CarND-Behavioral-Cloning-P3\\\\mydata\\\\IMG' + '\\\\' + filename\n",
    "    current_path.strip()\n",
    "    image_paths.append(current_path)\n",
    "    measurements.append(float(line[3]))\n",
    "    \n",
    "    #Left Image\n",
    "    source_path = line[1]\n",
    "    path, filename = os.path.split(source_path)\n",
    "    current_path = 'C:\\\\Users\\\\James\\\\Documents\\\\GitHub\\\\CarND-Behavioral-Cloning-P3\\\\mydata\\\\IMG' + '\\\\' + filename\n",
    "    current_path.strip()\n",
    "    image_paths.append(current_path)\n",
    "    measurements.append(float(line[3]) + 0.25)\n",
    "    #Right Image\n",
    "    source_path = line[2]\n",
    "    path, filename = os.path.split(source_path)\n",
    "    current_path = 'C:\\\\Users\\\\James\\\\Documents\\\\GitHub\\\\CarND-Behavioral-Cloning-P3\\\\mydata\\\\IMG' + '\\\\' + filename\n",
    "    current_path.strip()\n",
    "    image_paths.append(current_path)\n",
    "    measurements.append(float(line[3]) - 0.25)\n",
    "    \n",
    "print(\"done\")"
   ]
  },
  {
   "cell_type": "markdown",
   "metadata": {},
   "source": [
    "## Distribution of steering values"
   ]
  },
  {
   "cell_type": "code",
   "execution_count": 4,
   "metadata": {},
   "outputs": [
    {
     "data": {
      "image/png": "[encoded data removed]",
      "text/plain": [
       "<matplotlib.figure.Figure at 0x22c5beac2e8>"
      ]
     },
     "metadata": {},
     "output_type": "display_data"
    }
   ],
   "source": [
    "num_bins = 25\n",
    "avg_samples_per_bin = len(measurements)/num_bins\n",
    "\n",
    "hist, bins, _ = plt.hist(measurements, num_bins)\n",
    "plt.show()"
   ]
  },
  {
   "cell_type": "markdown",
   "metadata": {},
   "source": [
    "## Normalising Distribution"
   ]
  },
  {
   "cell_type": "code",
   "execution_count": 5,
   "metadata": {},
   "outputs": [
    {
     "data": {
      "image/png": "[encoded data removed]",
      "text/plain": [
       "<matplotlib.figure.Figure at 0x22c5be92e80>"
      ]
     },
     "metadata": {},
     "output_type": "display_data"
    }
   ],
   "source": [
    "keep_probs = []\n",
    "target = avg_samples_per_bin\n",
    "for i in range(num_bins):\n",
    "    if hist[i] < target:\n",
    "        keep_probs.append(1.)\n",
    "    else:\n",
    "        keep_probs.append(1./(hist[i]/target))\n",
    "remove_list = []\n",
    "for i in range(len(measurements)):\n",
    "    for j in range(num_bins):\n",
    "        if measurements[i] > bins[j] and measurements[i] <= bins[j+1]:\n",
    "            # delete from X and y with probability 1 - keep_probs[j]\n",
    "            if np.random.rand() > keep_probs[j]:\n",
    "                remove_list.append(i)\n",
    "image_paths = np.delete(image_paths, remove_list, axis=0)\n",
    "measurements = np.delete(measurements, remove_list)\n",
    "\n",
    "# print histogram again to show more even distribution of steering angles\n",
    "plt.hist(measurements, num_bins)\n",
    "plt.show()\n"
   ]
  },
  {
   "cell_type": "markdown",
   "metadata": {},
   "source": [
    "## Image Preprocessing"
   ]
  },
  {
   "cell_type": "code",
   "execution_count": 6,
   "metadata": {},
   "outputs": [
    {
     "name": "stdout",
     "output_type": "stream",
     "text": [
      "done\n"
     ]
    }
   ],
   "source": [
    "def preprocess_image(img):\n",
    "    #Apply a Gaussian Blur\n",
    "    new_img = cv2.GaussianBlur(img, (3,3), 0)\n",
    "    #Following NVidias advice, resize to 66x200x3\n",
    "    #Crop first\n",
    "    new_img = img[50:140,:,:]\n",
    "    new_img = cv2.resize(new_img, (200, 66), interpolation = cv2.INTER_AREA)\n",
    "    #Again following NVidias advice on the model being used, convert to YUV colour space\n",
    "    new_img = cv2.cvtColor(new_img, cv2.COLOR_BGR2YUV)\n",
    "    return new_img\n",
    "\n",
    "print(\"done\")"
   ]
  },
  {
   "cell_type": "markdown",
   "metadata": {},
   "source": [
    "## Random Distortion"
   ]
  },
  {
   "cell_type": "code",
   "execution_count": 7,
   "metadata": {},
   "outputs": [
    {
     "name": "stdout",
     "output_type": "stream",
     "text": [
      "done\n"
     ]
    }
   ],
   "source": [
    "#Randomly distort the training images to help the model generalise better\n",
    "def random_distort(img):\n",
    "    #Convert to float to allow distortion\n",
    "    new_img = img.astype(float)\n",
    "    \n",
    "    #Adjust brightness of image\n",
    "    value = np.random.randint(-28, 28)\n",
    "    #valid_mask will be false if the brightness adjustment would set the value out of the (0, 255) range\n",
    "    #If false, the brightness will not be adjusted\n",
    "    if value > 0:\n",
    "        valid_mask = (new_img[:,:,0] + value) > 255\n",
    "    else:\n",
    "        valid_mask = (new_img[:,:,0] + value) < 0\n",
    "    new_img[:,:,0] += np.where(valid_mask, 0, value)\n",
    "    \n",
    "    #Randomly shadow the image on a random portion of the image, defined by mid\n",
    "    height ,width = new_img.shape[0:2]\n",
    "    mid = np.random.randint(0, width)\n",
    "    factor = np.random.uniform(0.6,0.8)\n",
    "    if np.random.rand() > .5:\n",
    "        new_img[:, 0:mid, 0] *= factor\n",
    "    else:\n",
    "        new_img[:, mid:width, 0] *= factor\n",
    "    \n",
    "    #Randomly shift the image horizontally and vertically\n",
    "    height ,width = new_img.shape[0:2] #Redundant but helps for clarity\n",
    "    horizon = 2*height / 5\n",
    "    vertical = np.random.randint(-height/8, height/8)\n",
    "    src = np.float32([[0, horizon], [width, horizon], [0, height], [width, height]])\n",
    "    dst = np.float32([[0, horizon+vertical], [width, horizon+vertical], [0, height], [width, height]])\n",
    "    M = cv2.getPerspectiveTransform(src, dst)\n",
    "    new_img = cv2.warpPerspective(new_img, M, (width, height), borderMode=cv2.BORDER_REPLICATE)\n",
    "    \n",
    "    #Remember to return the image as a uint8\n",
    "    return new_img.astype(np.uint8)\n",
    "\n",
    "print(\"done\")"
   ]
  },
  {
   "cell_type": "markdown",
   "metadata": {},
   "source": [
    "## Split training and validation data"
   ]
  },
  {
   "cell_type": "code",
   "execution_count": 8,
   "metadata": {},
   "outputs": [
    {
     "name": "stdout",
     "output_type": "stream",
     "text": [
      "done\n"
     ]
    }
   ],
   "source": [
    "image_path_train, image_path_valid, measurements_train, measurements_valid = train_test_split(image_paths, measurements, \n",
    "                                                                                                test_size=0.2)\n",
    "print(\"done\")"
   ]
  },
  {
   "cell_type": "markdown",
   "metadata": {},
   "source": [
    "## Generator"
   ]
  },
  {
   "cell_type": "code",
   "execution_count": 9,
   "metadata": {},
   "outputs": [
    {
     "name": "stdout",
     "output_type": "stream",
     "text": [
      "done\n"
     ]
    }
   ],
   "source": [
    "def generator(image_paths, measurements, batch_size=32, valid_flag=False):\n",
    "\n",
    "    image_paths, measurements = shuffle(image_paths, measurements)\n",
    "    X_train = []\n",
    "    y_train = []\n",
    "    \n",
    "    while 1:\n",
    "        \n",
    "        for i in range(len(measurements)):\n",
    "            \n",
    "            image = cv2.imread(image_paths[i])\n",
    "            image = preprocess_image(image)\n",
    "            measurement = measurements[i]\n",
    "            \n",
    "            if valid_flag == False:\n",
    "                    image = random_distort(image)\n",
    "            \n",
    "            X_train.append(image)\n",
    "            y_train.append(measurement)\n",
    "            \n",
    "            if len(X_train) == batch_size:\n",
    "                yield (np.array(X_train), np.array(y_train))\n",
    "                X_train = []\n",
    "                y_train = []\n",
    "                image_paths, measurements = shuffle(image_paths, measurements)\n",
    "                \n",
    "            #If the steering angle is significant (> 0.33), flip the image and add it to the training set\n",
    "            if abs(measurement)  > 0.33:\n",
    "                flipped_image = cv2.flip(image, 1)\n",
    "                measurement *= -1\n",
    "                X_train.append(flipped_image)\n",
    "                y_train.append(measurement)\n",
    "                if len(X_train) == batch_size:\n",
    "                    yield (np.array(X_train), np.array(y_train))\n",
    "                    X_train = []\n",
    "                    y_train = []\n",
    "                    image_paths, measurements = shuffle(image_paths, measurements)\n",
    "\n",
    "                \n",
    "print(\"done\")"
   ]
  },
  {
   "cell_type": "code",
   "execution_count": 10,
   "metadata": {},
   "outputs": [
    {
     "name": "stdout",
     "output_type": "stream",
     "text": [
      "done\n"
     ]
    }
   ],
   "source": [
    "train_generator = generator(image_path_train, measurements_train, batch_size=32, valid_flag=False)\n",
    "validation_generator = generator(image_path_valid, measurements_valid, batch_size=32, valid_flag=True)\n",
    "\n",
    "print(\"done\")"
   ]
  },
  {
   "cell_type": "markdown",
   "metadata": {},
   "source": [
    "## Keras Imports"
   ]
  },
  {
   "cell_type": "code",
   "execution_count": 11,
   "metadata": {},
   "outputs": [
    {
     "name": "stdout",
     "output_type": "stream",
     "text": [
      "done\n"
     ]
    }
   ],
   "source": [
    "from keras.models import Sequential\n",
    "from keras.layers import Dense, Activation, Flatten, Dropout, Lambda, Cropping2D, Reshape\n",
    "from keras.layers import Convolution2D\n",
    "from keras.layers.pooling import MaxPooling2D\n",
    "from keras.backend import tf\n",
    "\n",
    "print(\"done\")"
   ]
  },
  {
   "cell_type": "code",
   "execution_count": 12,
   "metadata": {},
   "outputs": [
    {
     "name": "stderr",
     "output_type": "stream",
     "text": [
      "C:\\Users\\James\\Anaconda3\\lib\\site-packages\\ipykernel_launcher.py:34: UserWarning: The semantics of the Keras 2 argument `steps_per_epoch` is not the same as the Keras 1 argument `samples_per_epoch`. `steps_per_epoch` is the number of batches to draw from the generator at each epoch. Basically steps_per_epoch = samples_per_epoch/batch_size. Similarly `nb_val_samples`->`validation_steps` and `val_samples`->`steps` arguments have changed. Update your method calls accordingly.\n",
      "C:\\Users\\James\\Anaconda3\\lib\\site-packages\\ipykernel_launcher.py:34: UserWarning: Update your `fit_generator` call to the Keras 2 API: `fit_generator(<generator..., validation_data=<generator..., steps_per_epoch=50, epochs=3, validation_steps=5)`\n"
     ]
    },
    {
     "name": "stdout",
     "output_type": "stream",
     "text": [
      "Epoch 1/3\n",
      "50/50 [==============================] - 329s 7s/step - loss: 14.2305 - val_loss: 0.5778\n",
      "Epoch 2/3\n",
      "50/50 [==============================] - 332s 7s/step - loss: 3.8268 - val_loss: 0.6850\n",
      "Epoch 3/3\n",
      "50/50 [==============================] - 342s 7s/step - loss: 2.6943 - val_loss: 0.4960\n",
      "done\n"
     ]
    }
   ],
   "source": [
    "model = Sequential()\n",
    "model.add(Lambda(lambda x: x/ 255.0 - 0.5, input_shape=(66,200,3)))\n",
    "#Conv 1\n",
    "model.add(Convolution2D(24, (5, 5)))\n",
    "model.add(Activation('elu'))\n",
    "#Conv 2\n",
    "model.add(Convolution2D(36, (5, 5)))\n",
    "model.add(Activation('elu'))\n",
    "#Conv 3\n",
    "model.add(Convolution2D(48, (3, 3)))\n",
    "model.add(Activation('elu'))\n",
    "#Conv 4\n",
    "model.add(Convolution2D(64, (3, 3)))\n",
    "model.add(Activation('elu'))\n",
    "#Conv 5\n",
    "model.add(Convolution2D(64, (3, 3)))\n",
    "model.add(Activation('elu'))\n",
    "#Fully Connected\n",
    "model.add(Flatten())\n",
    "model.add(Dense(100))\n",
    "model.add(Activation('elu'))\n",
    "model.add(Dropout(0.5))\n",
    "model.add(Dense(50))\n",
    "model.add(Activation('elu'))\n",
    "model.add(Dropout(0.5))\n",
    "model.add(Dense(10))\n",
    "model.add(Activation('elu'))\n",
    "model.add(Dropout(0.5))\n",
    "model.add(Dense(1))\n",
    "\n",
    "model.compile(loss='mse', optimizer='adam')\n",
    "\n",
    "model.fit_generator(train_generator, samples_per_epoch= 50, \n",
    "                    validation_data=validation_generator, nb_val_samples=5, nb_epoch=3)\n",
    "\n",
    "model.save('model.h5')\n",
    "\n",
    "print(\"done\")"
   ]
  },
  {
   "cell_type": "code",
   "execution_count": null,
   "metadata": {},
   "outputs": [],
   "source": []
  }
 ],
 "metadata": {
  "kernelspec": {
   "display_name": "Python 3",
   "language": "python",
   "name": "python3"
  },
  "language_info": {
   "codemirror_mode": {
    "name": "ipython",
    "version": 3
   },
   "file_extension": ".py",
   "mimetype": "text/x-python",
   "name": "python",
   "nbconvert_exporter": "python",
   "pygments_lexer": "ipython3",
   "version": "3.6.3"
  }
 },
 "nbformat": 4,
 "nbformat_minor": 2
}
